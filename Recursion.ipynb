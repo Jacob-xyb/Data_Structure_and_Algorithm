{
 "cells": [
  {
   "cell_type": "markdown",
   "metadata": {},
   "source": [
    "# 递归(Recursion)\n",
    "\n",
    "- 将问题分解为规模更小的```相同问题```\n",
    "\n",
    "- 在算法中明显特征就是：**调用自身**"
   ]
  },
  {
   "cell_type": "markdown",
   "metadata": {},
   "source": [
    "## 递归案例：数列求和\n",
    "\n",
    "> **不使用for和while的情况下对不确定长度的列表求和**"
   ]
  },
  {
   "cell_type": "markdown",
   "metadata": {},
   "source": [
    "- 常见的求和函数"
   ]
  },
  {
   "cell_type": "code",
   "execution_count": 2,
   "metadata": {},
   "outputs": [],
   "source": [
    "def listsum(numList):\n",
    "    theSum = 0\n",
    "    for i in numList:\n",
    "        theSum += 1\n",
    "    return theSum"
   ]
  },
  {
   "cell_type": "markdown",
   "metadata": {},
   "source": [
    "- 递归解决"
   ]
  },
  {
   "cell_type": "code",
   "execution_count": 3,
   "metadata": {},
   "outputs": [],
   "source": [
    "def listsum(numList):\n",
    "    # 最小规模\n",
    "    if len(numList) == 1:\n",
    "        return numList[0]\n",
    "    # 减小规模\n",
    "    else:\n",
    "        return numList[0] + listsum(numList[1:])"
   ]
  },
  {
   "cell_type": "markdown",
   "metadata": {},
   "source": [
    "## 递归“三定律”\n",
    "\n",
    "1. 递归算法必须有一个基本结束条件（最小规模问题的直接解决）\n",
    "2. 递归算法必须能改变状态向基本结束条件演进（减小问题规模）\n",
    "3. 递归算法必须调用自身（解决减小了规模的相同问题）"
   ]
  },
  {
   "cell_type": "markdown",
   "metadata": {},
   "source": [
    "## 案例：整数转换为任意进制\n",
    "\n",
    "- 套用递归“三定律”"
   ]
  },
  {
   "cell_type": "code",
   "execution_count": 4,
   "metadata": {},
   "outputs": [],
   "source": [
    "def toStr(n, base):\n",
    "    converString = \"0123456789ABCDEF\"\n",
    "    if n < base:\n",
    "        return converString[n]  # 最小规模\n",
    "    else:\n",
    "        return toStr(n // base, base) + converString[n % base]  # 减小规模，调用自身"
   ]
  },
  {
   "cell_type": "code",
   "execution_count": 5,
   "metadata": {
    "scrolled": true
   },
   "outputs": [
    {
     "name": "stdout",
     "output_type": "stream",
     "text": [
      "1000\n"
     ]
    }
   ],
   "source": [
    "print(toStr(8,2))"
   ]
  },
  {
   "cell_type": "markdown",
   "metadata": {},
   "source": [
    "# 递归调用的实现\n",
    "\n",
    "- 当一个函数被调用的时候，系统会把调用时的**```现场数据```**压入到**```系统调用栈```**\n",
    "\n",
    "    每次调用时，压入栈的现场数据成为**```栈帧```**\n",
    "\n",
    "    当函数返回时，要从调用栈的栈顶取得返回地址，恢复现场，弹出栈帧，按地址返回。\n"
   ]
  },
  {
   "cell_type": "markdown",
   "metadata": {},
   "source": [
    "# 递归深度限制\n",
    "\n",
    "- 在调试递归算法程序的时候经常会碰到这样的错误：RecursionError\n",
    "    \n",
    "     - **递归的层数太多，系统调用栈容量有限。**\n",
    "     \n",
    "- python内置模块```sys```可以获取和调整最大递归深度\n"
   ]
  },
  {
   "cell_type": "code",
   "execution_count": 1,
   "metadata": {},
   "outputs": [
    {
     "name": "stdout",
     "output_type": "stream",
     "text": [
      "3000\n",
      "60000\n"
     ]
    }
   ],
   "source": [
    "import sys \n",
    "print(sys.getrecursionlimit())\n",
    "sys.setrecursionlimit(60000)\n",
    "print(sys.getrecursionlimit())"
   ]
  }
 ],
 "metadata": {
  "kernelspec": {
   "display_name": "Python 3",
   "language": "python",
   "name": "python3"
  },
  "language_info": {
   "codemirror_mode": {
    "name": "ipython",
    "version": 3
   },
   "file_extension": ".py",
   "mimetype": "text/x-python",
   "name": "python",
   "nbconvert_exporter": "python",
   "pygments_lexer": "ipython3",
   "version": "3.8.3"
  },
  "toc": {
   "base_numbering": 1,
   "nav_menu": {},
   "number_sections": true,
   "sideBar": true,
   "skip_h1_title": false,
   "title_cell": "Table of Contents",
   "title_sidebar": "Contents",
   "toc_cell": false,
   "toc_position": {},
   "toc_section_display": true,
   "toc_window_display": true
  },
  "varInspector": {
   "cols": {
    "lenName": 16,
    "lenType": 16,
    "lenVar": 40
   },
   "kernels_config": {
    "python": {
     "delete_cmd_postfix": "",
     "delete_cmd_prefix": "del ",
     "library": "var_list.py",
     "varRefreshCmd": "print(var_dic_list())"
    },
    "r": {
     "delete_cmd_postfix": ") ",
     "delete_cmd_prefix": "rm(",
     "library": "var_list.r",
     "varRefreshCmd": "cat(var_dic_list()) "
    }
   },
   "types_to_exclude": [
    "module",
    "function",
    "builtin_function_or_method",
    "instance",
    "_Feature"
   ],
   "window_display": false
  }
 },
 "nbformat": 4,
 "nbformat_minor": 4
}
