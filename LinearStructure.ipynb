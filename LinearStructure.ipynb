{
 "cells": [
  {
   "cell_type": "markdown",
   "metadata": {},
   "source": [
    "# 4个最简单但功能强大的结构\n",
    "- 栈Stack\n",
    "- 队列Queue\n",
    "- 双端队列Deque\n",
    "- 列表List"
   ]
  },
  {
   "cell_type": "markdown",
   "metadata": {},
   "source": [
    "# 栈Stack\n",
    "- 一种有次序的数据项集合，在栈中，数据项的加入和移除都仅发生在同一端\n",
    "\n",
    "> 一端叫做栈顶“top”，另一端叫栈底“base”\n",
    "\n",
    "- 距离栈底越近的数据项，留在栈中的时间就越长\n",
    "\n",
    "> 而最新加入栈的数据项会被最先移除\n",
    "\n",
    "- 这种次序通常称为\"后进先出LIFO\"：Last in First out"
   ]
  },
  {
   "cell_type": "markdown",
   "metadata": {},
   "source": [
    "## Stack 操作定义\n",
    "\n",
    "- Stack(): 创建一个空栈，不包含任何数据项。\n",
    "- push(item): 将item加入栈顶，无返回值。\n",
    "- pop(): 将栈顶数据项移除，并返回，栈会修改。\n",
    "- peek(): “窥视”栈顶数据项，返回栈顶的数据项但不移除，栈不被修改。\n",
    "- isEmpty(): 返回栈是否为空栈。\n",
    "- size(): 返回栈中有多少个数据项。"
   ]
  },
  {
   "cell_type": "markdown",
   "metadata": {},
   "source": [
    "## 用python实现ADT Stack\n",
    "- 将List的一端（index=0）设置为栈底，另一端(index=-1)设置为栈顶，push/pop 复杂度为O(1)。\n",
    "\n",
    "- 如果(index=0)设置为栈顶的话， push/pop 复杂度为O(n)。"
   ]
  },
  {
   "cell_type": "code",
   "execution_count": 1,
   "metadata": {},
   "outputs": [],
   "source": [
    "class Stack:\n",
    "    \"\"\"模拟栈\"\"\"\n",
    "    def __init__(self):\n",
    "        self.items = []\n",
    "\n",
    "    def isEmpty(self):\n",
    "        return self.items == []\n",
    "\n",
    "    def push(self, item):\n",
    "        self.items.append(item)\n",
    "\n",
    "    def pop(self):\n",
    "        return self.items.pop()\n",
    "\n",
    "    def peek(self):\n",
    "        if not self.isEmpty():\n",
    "            return self.items[len(self.items) - 1]\n",
    "\n",
    "    def size(self):\n",
    "        return len(self.items)"
   ]
  }
 ],
 "metadata": {
  "kernelspec": {
   "display_name": "base",
   "language": "python",
   "name": "base"
  },
  "language_info": {
   "codemirror_mode": {
    "name": "ipython",
    "version": 3
   },
   "file_extension": ".py",
   "mimetype": "text/x-python",
   "name": "python",
   "nbconvert_exporter": "python",
   "pygments_lexer": "ipython3",
   "version": "3.8.3"
  }
 },
 "nbformat": 4,
 "nbformat_minor": 4
}
