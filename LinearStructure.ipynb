{
 "cells": [
  {
   "cell_type": "markdown",
   "metadata": {},
   "source": [
    "# 4个最简单但功能强大的结构\n",
    "- 栈Stack\n",
    "- 队列Queue\n",
    "- 双端队列Deque\n",
    "- 列表List"
   ]
  },
  {
   "cell_type": "markdown",
   "metadata": {},
   "source": [
    "# 栈Stack\n",
    "- 一种有次序的数据项集合，在栈中，数据项的加入和移除都仅发生在同一端\n",
    "\n",
    "> 一端叫做栈顶“top”，另一端叫栈底“base”\n",
    "\n",
    "- 距离栈底越近的数据项，留在栈中的时间就越长\n",
    "\n",
    "> 而最新加入栈的数据项会被最先移除\n",
    "\n",
    "- 这种次序通常称为\"后进先出LIFO\"：Last in First out"
   ]
  },
  {
   "cell_type": "markdown",
   "metadata": {},
   "source": [
    "## Stack 操作定义\n",
    "\n",
    "- Stack(): 创建一个空栈，不包含任何数据项。\n",
    "\n",
    "- push(item): 将item加入栈顶，无返回值。\n",
    "\n",
    "- pop(): 将栈顶数据项移除，并返回，栈会修改。\n",
    "\n",
    "- peek(): “窥视”栈顶数据项，返回栈顶的数据项但不移除，栈不被修改。\n",
    "\n",
    "- isEmpty(): 返回栈是否为空栈。\n",
    "\n",
    "- size(): 返回栈中有多少个数据项。"
   ]
  },
  {
   "cell_type": "markdown",
   "metadata": {},
   "source": [
    "## 用python实现ADT Stack\n",
    "- 将List的一端（index=0）设置为栈底，另一端(index=-1)设置为栈顶，push/pop 复杂度为O(1)。\n",
    "\n",
    "- 如果(index=0)设置为栈顶的话， push/pop 复杂度为O(n)。"
   ]
  },
  {
   "cell_type": "code",
   "execution_count": 3,
   "metadata": {},
   "outputs": [],
   "source": [
    "class Stack:\n",
    "    \"\"\"模拟栈\"\"\"\n",
    "    def __init__(self):\n",
    "        self.items = []\n",
    "\n",
    "    def push(self, item):\n",
    "        self.items.append(item)\n",
    "\n",
    "    def pop(self):\n",
    "        return self.items.pop()\n",
    "\n",
    "    def peek(self):\n",
    "        if not self.isEmpty():\n",
    "            return self.items[len(self.items) - 1]\n",
    "\n",
    "    def isEmpty(self):\n",
    "        return self.items == []\n",
    "\n",
    "    def size(self):\n",
    "        return len(self.items)"
   ]
  },
  {
   "cell_type": "markdown",
   "metadata": {},
   "source": [
    "## Stack案例：括号匹配\n",
    "\n",
    "- 左右括号匹配是否成功。\n",
    "- 左括号加入栈顶，右括号从栈顶移除。（移除时保证栈是非空的）\n"
   ]
  },
  {
   "cell_type": "code",
   "execution_count": 7,
   "metadata": {},
   "outputs": [],
   "source": [
    "def parChecker(symbolString):\n",
    "    s = Stack()\n",
    "    balanced = True\n",
    "    index = 0\n",
    "    while index < len(symbolString) and balanced:\n",
    "        symbol = symbolString[index]\n",
    "        if symbol == \"(\":\n",
    "            s.push(symbol)\n",
    "        else:\n",
    "            if s.isEmpty():\n",
    "                balanced = False\n",
    "            else:\n",
    "                s.pop()\n",
    "        index += 1\n",
    "    if balanced and s.isEmpty():\n",
    "        return True\n",
    "    else:\n",
    "        return False"
   ]
  },
  {
   "cell_type": "code",
   "execution_count": 8,
   "metadata": {},
   "outputs": [
    {
     "name": "stdout",
     "output_type": "stream",
     "text": [
      "True\n",
      "False\n"
     ]
    }
   ],
   "source": [
    "print(parChecker(\"((()))\"))\n",
    "print(parChecker(\"()())\"))"
   ]
  },
  {
   "cell_type": "markdown",
   "metadata": {},
   "source": [
    "### Stack案例：更多种括号匹配\n",
    "\n",
    "> 其实修改的地方不多\n",
    "\n",
    "- 增加入栈左括号的类型\n",
    "\n",
    "- 碰到右括号的时候需要判断是否与栈顶的最括号匹配"
   ]
  },
  {
   "cell_type": "code",
   "execution_count": 9,
   "metadata": {},
   "outputs": [],
   "source": [
    "def parChecker_x(symbolString):\n",
    "    s = Stack()\n",
    "    balanced = True\n",
    "    index = 0\n",
    "    while index < len(symbolString) and balanced:\n",
    "        symbol = symbolString[index]\n",
    "        if symbol in \"([{\":\n",
    "            s.push(symbol)\n",
    "        else:\n",
    "            if s.isEmpty():\n",
    "                balanced = False\n",
    "            else:\n",
    "                top = s.pop()\n",
    "                if not matches(top, symbol):\n",
    "                    balanced = False\n",
    "        index += 1\n",
    "    if balanced and s.isEmpty():\n",
    "        return True\n",
    "    else:\n",
    "        return False\n",
    "\n",
    "def matches(top, symbol):\n",
    "    opens = \"([{\"\n",
    "    closers = \")]}\"\n",
    "    return opens.index(top) == closers.index(symbol)"
   ]
  },
  {
   "cell_type": "code",
   "execution_count": 10,
   "metadata": {},
   "outputs": [
    {
     "name": "stdout",
     "output_type": "stream",
     "text": [
      "True\n",
      "False\n"
     ]
    }
   ],
   "source": [
    "print(parChecker_x(\"{[()]}\"))\n",
    "print(parChecker_x(\"[()]}\"))"
   ]
  },
  {
   "cell_type": "markdown",
   "metadata": {},
   "source": [
    "## Stack案例：十进制转二进制\n",
    "\n",
    "- 辗转相除，先算出的余数就是最低位。\n"
   ]
  },
  {
   "cell_type": "code",
   "execution_count": 20,
   "metadata": {},
   "outputs": [],
   "source": [
    "def divideBy2(decNumber):\n",
    "    remstack = Stack()\n",
    "    while decNumber > 0:\n",
    "        rem = decNumber % 2  # 求余\n",
    "        remstack.push(rem)\n",
    "        decNumber = decNumber // 2  # 取整\n",
    "    binString = \"\"\n",
    "    while not remstack.isEmpty():\n",
    "        binString = binString + str(remstack.pop())\n",
    "    return binString"
   ]
  },
  {
   "cell_type": "code",
   "execution_count": 19,
   "metadata": {
    "scrolled": true
   },
   "outputs": [
    {
     "name": "stdout",
     "output_type": "stream",
     "text": [
      "1000\n",
      "101010\n"
     ]
    }
   ],
   "source": [
    "print(divideBy2(8))\n",
    "print(divideBy2(42))"
   ]
  },
  {
   "cell_type": "markdown",
   "metadata": {},
   "source": [
    "### Stack案例：十进制转十六一下任意进制\n",
    "\n",
    "- 算法只需要将2进制转换成n就可以了。\n",
    "\n",
    "- 主要是考虑如何表示十六进制"
   ]
  },
  {
   "cell_type": "code",
   "execution_count": 23,
   "metadata": {},
   "outputs": [],
   "source": [
    "def baseConverter(decNumber, base):\n",
    "    digits = \"0123456789ABCDEF\"\n",
    "    remstack = Stack()\n",
    "    while decNumber > 0:\n",
    "        rem = decNumber % base  # 求余\n",
    "        remstack.push(rem)\n",
    "        decNumber = decNumber // base  # 取整\n",
    "    binString = \"\"\n",
    "    while not remstack.isEmpty():\n",
    "        binString = binString + digits[remstack.pop()]\n",
    "    return binString"
   ]
  },
  {
   "cell_type": "code",
   "execution_count": 24,
   "metadata": {},
   "outputs": [
    {
     "name": "stdout",
     "output_type": "stream",
     "text": [
      "1000\n",
      "19\n"
     ]
    }
   ],
   "source": [
    "print(baseConverter(8,2))\n",
    "print(baseConverter(25,16))"
   ]
  },
  {
   "cell_type": "markdown",
   "metadata": {},
   "source": [
    "## Stack案例：中缀表达式转换为前缀和后缀形式\n",
    "\n",
    "- 中缀：A + B * C 对应的后缀：A B C * +\n",
    "\n",
    "- 中缀：A * B + C * D 对应的后缀： A B * C D * +\n",
    "\n",
    "中缀转后缀：\n",
    "\n",
    ">- 可以看出操作数ABC的顺序是没有改变的。\n",
    ">\n",
    ">- 操作符的与运算次序一致。\n",
    "\n",
    "程序设计逻辑：\n",
    "\n",
    ">- 用栈暂存操作符\n",
    ">\n",
    ">- 在遇到第二个操作数时不急着弹出栈顶的操作符，因为要比较操作符的优先顺序\n",
    ">\n",
    ">- 如果遇到括号，那么括号优先级最高，遇到匹配的右括号时，立马弹出栈顶操作符，直到碰到对应的左括号。"
   ]
  },
  {
   "cell_type": "code",
   "execution_count": 29,
   "metadata": {},
   "outputs": [],
   "source": [
    "def infixToPostfix(infixexpr):\n",
    "    # 记录操作符优先级\n",
    "    prec = {}  # 用字典记录\n",
    "    prec[\"*\"] = 3\n",
    "    prec[\"/\"] = 3\n",
    "    prec[\"+\"] = 2\n",
    "    prec[\"-\"] = 2\n",
    "    prec[\"(\"] = 1\n",
    "    # 记录操作符优先级\n",
    "    opStack = Stack()  # 创建记录暂存操作符的空栈\n",
    "    postfixList = []  # 创建记录结果的列表\n",
    "    tokenList = infixexpr.split()  # 解析表达式到列表中（默认约定输入的表达式由空格隔开）\n",
    "    # 算法部分\n",
    "    for token in tokenList:\n",
    "        if token in \"ABCDEFGHIJKLMNOPQRSTUVWXYZ\" or token in \"0123456789\":\n",
    "            postfixList.append(token)  # 压入操作数\n",
    "        elif token == \"(\":\n",
    "            opStack.push(token)  # 遇到左括号就入栈\n",
    "        elif token == \")\":\n",
    "            topToken = opStack.pop()  # 遇到右括号就弹出栈顶的操作符并记录下来\n",
    "            while topToken != \"(\":\n",
    "                postfixList.append(topToken)  # 如果弹出的操作符不是\"(\",就添加到结果列表中\n",
    "                topToken = opStack.pop()  # 直到弹出的是\"(\"为止\n",
    "        else:\n",
    "            while (not opStack.isEmpty()) and \\\n",
    "            (prec[opStack.peek()] >= prec[token]):\n",
    "                postfixList.append(opStack.pop())\n",
    "            opStack.push(token)\n",
    "        \n",
    "    while not opStack.isEmpty():  # 没有操作符和操作数后，将栈内的操作数全部弹出\n",
    "        postfixList.append(opStack.pop())\n",
    "    return \" \".join(postfixList)"
   ]
  },
  {
   "cell_type": "code",
   "execution_count": 27,
   "metadata": {},
   "outputs": [
    {
     "name": "stdout",
     "output_type": "stream",
     "text": [
      "A B * C D * +\n"
     ]
    }
   ],
   "source": [
    "print(infixToPostfix(\"A * B + C * D\"))"
   ]
  },
  {
   "cell_type": "code",
   "execution_count": 30,
   "metadata": {},
   "outputs": [
    {
     "name": "stdout",
     "output_type": "stream",
     "text": [
      "A B + C D - * E -\n"
     ]
    }
   ],
   "source": [
    "print(infixToPostfix(\"( A + B ) * ( C - D ) - E\"))"
   ]
  },
  {
   "cell_type": "markdown",
   "metadata": {},
   "source": [
    "## Stack案例：后缀表达式求值\n",
    "\n",
    "- 需要注意：\n",
    "\n",
    "- 先弹出的是右操作数，后弹出的是左操作数，这个对于```-``` ```/```很重要！\n"
   ]
  },
  {
   "cell_type": "code",
   "execution_count": 11,
   "metadata": {},
   "outputs": [],
   "source": [
    "def postfixEval(postfixExpr):\n",
    "    operandStack = Stack()\n",
    "    tokenlist = postfixExpr.split()\n",
    "    for token in tokenlist:\n",
    "        if token in \"0123456789\":\n",
    "            operandStack.push(int(token))\n",
    "        else:\n",
    "            operand2 = operandStack.pop()\n",
    "            operand1 = operandStack.pop()\n",
    "            result = doMath(token, operand1, operand2)  # 先弹出的是右操作数\n",
    "            operandStack.push(result)\n",
    "    return operandStack.pop()\n",
    "\n",
    "def doMath(op, op1, op2):\n",
    "    if op == \"+\":\n",
    "        return op1 + op2\n",
    "    elif op == \"-\":\n",
    "        return op1 - op2\n",
    "    elif op == \"*\":\n",
    "        return op1 * op2\n",
    "    elif op == \"/\":\n",
    "        return op1 / op2\n",
    "    elif op == \"**\":\n",
    "        return op1 ** op2\n",
    "    elif op == \"%\":  # 取余\n",
    "        return op1 % op2\n",
    "    elif op == \"//\": # 取整\n",
    "        return op1 // op2"
   ]
  },
  {
   "cell_type": "code",
   "execution_count": 13,
   "metadata": {},
   "outputs": [
    {
     "name": "stdout",
     "output_type": "stream",
     "text": [
      "10\n"
     ]
    }
   ],
   "source": [
    "print(postfixEval(\"2 5 + 6 4 - * 4 -\"))"
   ]
  },
  {
   "cell_type": "markdown",
   "metadata": {},
   "source": [
    "# 队列Queue\n",
    "\n",
    "- 数据的添加总在一端发生（通常称为尾端“rear”）\n",
    "\n",
    "- 数据的移除总在另一端发生（通常称为首端“front”）\n",
    "\n",
    "- 这种次序安排的原则通常称为（FIFO：first-in-first-out）\n",
    "\n",
    "> 例如排队，只有一个入口一个出口，不允许从中间移除数据项。"
   ]
  },
  {
   "cell_type": "markdown",
   "metadata": {},
   "source": [
    "## Queue 操作定义\n",
    "\n",
    "- Queue(): 创建一个空队列对象，不包含任何数据项。\n",
    "\n",
    "- enqueue(item): 将item添加到队尾，无返回值。\n",
    "\n",
    "- dequeue(): 从队首移除数据项，返回值为队首数据项，队列被修改。\n",
    "\n",
    "- isEmpty(): 返回栈是否为空队列。\n",
    "\n",
    "- size(): 返回队列中数据项的个数。"
   ]
  },
  {
   "cell_type": "markdown",
   "metadata": {},
   "source": [
    "## 用python实现ADT Queue\n",
    "- 将List首端作为队列尾端，List尾端作为队列首端。\n",
    "\n",
    "> enqueue()复杂度为O(n);dequeue()复杂度为O(1)\n",
    "\n",
    "- 如果首尾倒过来，复杂度也会倒过来。"
   ]
  },
  {
   "cell_type": "code",
   "execution_count": 4,
   "metadata": {},
   "outputs": [],
   "source": [
    "class Queue:\n",
    "    def __init__(self):\n",
    "        self.items = []\n",
    "        \n",
    "    def enqueue(self, item):\n",
    "        self.items.insert(0, item)\n",
    "    \n",
    "    def dequeue(self):\n",
    "        return self.items.pop()\n",
    "    \n",
    "    def isEmpty(self):\n",
    "        return self.items == []\n",
    "    \n",
    "    def size(size):\n",
    "        return len(self.items)"
   ]
  },
  {
   "cell_type": "markdown",
   "metadata": {},
   "source": [
    "## Queue案例：约瑟夫问题"
   ]
  },
  {
   "cell_type": "code",
   "execution_count": 1,
   "metadata": {},
   "outputs": [],
   "source": [
    "# 约瑟夫问题\n",
    "def hotPotato(namelist, num):\n",
    "    simqueue = Queue()\n",
    "    for name in namelist:\n",
    "        simqueue.enqueue(name)\n",
    "    while simqueue.size() > 1:\n",
    "        for i in range(num):\n",
    "            simqueue.enqueue(simqueue.dequeue())  # 一次传递\n",
    "        simqueue.dequeue()  # 踢出被点到的人\n",
    "    return simqueue.dequeue()"
   ]
  },
  {
   "cell_type": "markdown",
   "metadata": {},
   "source": [
    "## Queue案例：打印机问题\n",
    "\n",
    "- [ ] 是否看懂"
   ]
  },
  {
   "cell_type": "code",
   "execution_count": null,
   "metadata": {},
   "outputs": [],
   "source": [
    "import random\n",
    "\n",
    "class Printer:\n",
    "    def __init__(self, ppm):\n",
    "        self.pagerate = ppm  # 打印速度\n",
    "        self.current_task = None  # 打印任务\n",
    "        self.time_remaining = 0  # 任务倒计时\n",
    "\n",
    "    def tick(self):  # 打印1秒\n",
    "        if self.current_task != None:\n",
    "            self.time_remaining -= 1\n",
    "            if self.time_remaining <= 0:\n",
    "                self.current_task = None\n",
    "\n",
    "    def busy(self):  # 打印繁忙?\n",
    "        if self.current_task != None:\n",
    "            return True\n",
    "        else:\n",
    "            return False\n",
    "\n",
    "    def startNext(self, newtask):  # 打印新作业\n",
    "        self.current_task = newtask\n",
    "        self.time_remaining = newtask.getPages() \\\n",
    "                              * 60/self.pagerate\n",
    "class Task:\n",
    "    def __init__(self, time):\n",
    "        self.timestamp = time  # 生成时间戳\n",
    "        self.pages = random.randrange(1, 21)  # 打印页数\n",
    "\n",
    "    def getStamp(self):\n",
    "        return self.timestamp\n",
    "\n",
    "    def getPages(self):\n",
    "        return self.pagespages\n",
    "\n",
    "    def waitTime(self, currnttime):\n",
    "        return currnttime - self.timestamp\n",
    "\n",
    "\n",
    "def newPrintTask():  # 1/180 概率生成作业\n",
    "    num = random.randrange(1, 181)\n",
    "    if num == 180:\n",
    "        return True\n",
    "    else:\n",
    "        return False\n",
    "\n",
    "\n",
    "def simulation(numSeconds, pagesPerMinute):  # 主体函数 模拟\n",
    "    labprinter = Printer(pagesPerMinute)\n",
    "    printQuene = Queue()\n",
    "    waitingtimes = []\n",
    "\n",
    "    for currentSecond in range(numSeconds):  # 时间流逝\n",
    "        if newPrintTask():\n",
    "            task = Task(currentSecond)\n",
    "            printQuene.enqueue(task)\n",
    "        if (not labprinter.busy()) and \\\n",
    "                (not printQuene.isEmpty()):\n",
    "            nexttask = printQuene.dequeue()\n",
    "            waitingtimes.append(\n",
    "                nexttask.waitTime(currentSecond))\n",
    "            labprinter.startNext(nexttask)\n",
    "        labprinter.tick()\n",
    "\n",
    "    averageWait = sum(waitingtimes) / len(waitingtimes)\n",
    "    print(\"Average Wait %6.2f secs %3d tasks remaining.\"\n",
    "          % (averageWait, printQuene.size()))"
   ]
  },
  {
   "cell_type": "markdown",
   "metadata": {},
   "source": [
    "# 双端队列Deque\n",
    "\n",
    "- 自定义Deque类型时需要注意约定好哪一端是头，哪一端是尾。"
   ]
  },
  {
   "cell_type": "markdown",
   "metadata": {},
   "source": [
    "## Deque 操作定义\n",
    "\n",
    "- Deque(): 创建一个空双端队列对象，不包含任何数据项。\n",
    "\n",
    "- addFront(item): 将item添加到队首，无返回值。\n",
    "\n",
    "- addRear(item): 将item添加到队尾，无返回值。\n",
    "\n",
    "- removeFront(): 从队首移除数据项，返回值为队首数据项，队列被修改。\n",
    "\n",
    "- removeRear(): 从队尾移除数据项，返回值为队首数据项，队列被修改。\n",
    "\n",
    "- isEmpty(): 返回deque是否为空。\n",
    "\n",
    "- size(): 返回deque中数据项的个数。"
   ]
  },
  {
   "cell_type": "markdown",
   "metadata": {},
   "source": [
    "## 用python实现ADT Deque\n",
    "- 将List首端[0]作为队列尾端，List尾端[-1]作为队列首端。\n",
    "\n",
    "> addFront/removeFront复杂度为O(1);addRear/removeRear复杂度为O(n)\n",
    "\n",
    "- 如果首尾倒过来，复杂度也会倒过来。"
   ]
  },
  {
   "cell_type": "code",
   "execution_count": 5,
   "metadata": {},
   "outputs": [],
   "source": [
    "class Deque:\n",
    "    \"\"\"\n",
    "    List下标0作为deque的尾端\n",
    "    list下标-1作为deque的首端\n",
    "    \"\"\"\n",
    "    def __init__(self):\n",
    "        self.items = []\n",
    "\n",
    "    def addFront(self, item):\n",
    "        self.items.append(item)\n",
    "\n",
    "    def addRear(self, item):\n",
    "        self.items.insert(0, item)\n",
    "\n",
    "    def removeFront(self):\n",
    "        return self.items.pop()\n",
    "\n",
    "    def removeRear(self):\n",
    "        return self.items.pop(0)\n",
    "\n",
    "    def iSEmpty(self):\n",
    "        return self.items == []\n",
    "\n",
    "    def size(self):\n",
    "        return len(self.items)"
   ]
  },
  {
   "cell_type": "markdown",
   "metadata": {},
   "source": [
    "## Deque案例：“回文词”判定"
   ]
  },
  {
   "cell_type": "code",
   "execution_count": 11,
   "metadata": {},
   "outputs": [],
   "source": [
    "def palchecker(aString):\n",
    "    \"\"\"\n",
    "    先将需要判定的词从队首加入deque\n",
    "    再从两端同时移除字符判定是否相同，\n",
    "    直到deque中剩下0个或1个字符\n",
    "    \"\"\"\n",
    "    chardeque = Deque()\n",
    "    for ch in aString:\n",
    "        chardeque.addFront(ch)\n",
    "    stillEqual = True\n",
    "    while chardeque.size() > 1 and stillEqual:\n",
    "        first = chardeque.removeRear()\n",
    "        last = chardeque.removeFront()\n",
    "        if first != last:\n",
    "            stillEqual = False\n",
    "    return stillEqual"
   ]
  },
  {
   "cell_type": "code",
   "execution_count": 14,
   "metadata": {},
   "outputs": [
    {
     "name": "stdout",
     "output_type": "stream",
     "text": [
      "True\n",
      "True\n"
     ]
    }
   ],
   "source": [
    "print(palchecker(\"上海自来水来自海上\"))\n",
    "print(palchecker(\"山东落花生花落东山\"))"
   ]
  },
  {
   "cell_type": "markdown",
   "metadata": {},
   "source": [
    "# 列表List\n",
    "\n",
    "- 其实被称为“无序表unordered list”，其中数据项只按照存放位置来索引。"
   ]
  },
  {
   "cell_type": "markdown",
   "metadata": {},
   "source": [
    "## 链表实现：节点Node\n",
    "\n",
    "- 每个节点至少要包含2个信息：**数据项**本身，以及指向下一个节点的**引用**信息。\n",
    "\n",
    "- 注意：next为None的意义是没有下一个节点了。"
   ]
  },
  {
   "cell_type": "code",
   "execution_count": 1,
   "metadata": {},
   "outputs": [],
   "source": [
    "class Node:\n",
    "    def __init__(self, initdata):\n",
    "        self.data = initdata\n",
    "        self.next = None\n",
    "\n",
    "    def getData(self):\n",
    "        return self.data\n",
    "\n",
    "    def getNext(self):\n",
    "        return self.next\n",
    "\n",
    "    def setData(self, newdata):\n",
    "        self.data = newdata\n",
    "\n",
    "    def setNext(self, newnext):\n",
    "        self.next = newnext"
   ]
  },
  {
   "cell_type": "markdown",
   "metadata": {},
   "source": [
    "## 用python实现unordered list"
   ]
  },
  {
   "cell_type": "code",
   "execution_count": null,
   "metadata": {},
   "outputs": [],
   "source": [
    "class Unorderedlist:\n",
    "\n",
    "    def __init__(self):\n",
    "        self.head = None\n",
    "\n",
    "    def isEmpty(self):\n",
    "        return self.head == None\n",
    "\n",
    "    def add(self, item):  # 这里注意顺序一定不能乱，先设置暂存temp的next节点，再将表头指向temp\n",
    "        temp = Node(item)\n",
    "        temp.setNext(self.head)\n",
    "        self.head = temp\n",
    "\n",
    "    def size(self):\n",
    "        \"\"\"\n",
    "        链表实现:size\n",
    "        :return:\n",
    "        \"\"\"\n",
    "        current = self.head\n",
    "        count = 0\n",
    "        while current != None:\n",
    "            count += 1\n",
    "            current = current.getNext()\n",
    "        return count\n",
    "\n",
    "    def search(self, item):\n",
    "        \"\"\"链表实现：查找\"\"\"\n",
    "        current = self.head\n",
    "        found = False\n",
    "        while current != None and not found:\n",
    "            if current.getData() == item:\n",
    "                found = True\n",
    "            else:\n",
    "                current = current.getNext()\n",
    "        return found\n",
    "\n",
    "    def remove(self, item):\n",
    "        current = self.head\n",
    "        previous = None\n",
    "        found = False\n",
    "        while not found:\n",
    "            if current.getData() == item:\n",
    "                found = True\n",
    "            else:\n",
    "                previous = current\n",
    "                current = current.getNext()\n",
    "        if previous == None:\n",
    "            self.head = current.getNext()\n",
    "        else:\n",
    "            previous.setNext(current.getNext())"
   ]
  },
  {
   "cell_type": "markdown",
   "metadata": {},
   "source": [
    "## 用python实现OrderedList\n",
    "- OrderedList(): 创建一个空的有序表\n",
    "- add(item): 在表中添加一个数据项，并保持整体顺序，此项原不存在\n",
    "- search(item): 在有序表中查找数据项，返回是否存在\n",
    "- isEmpty(): 是否空表\n",
    "- index(item): 返回数据项在表中的位置，此项应存在\n",
    "- pop(): 移除并返回有序表中最后一项，表中应至少存在一项\n",
    "- pop(pos): 移除并返回有序表中指定位置的数据项，此位置应存在"
   ]
  },
  {
   "cell_type": "code",
   "execution_count": 5,
   "metadata": {},
   "outputs": [],
   "source": [
    "class OrderedList:\n",
    "    def __init__(self):\n",
    "        self.head = None\n",
    "\n",
    "    def iSEmpty(self):\n",
    "        return self.head == None\n",
    "\n",
    "    def size(self):  # 返回表中数据项的个数\n",
    "        current = self.head\n",
    "        count = 0\n",
    "        while current != None:\n",
    "            count += 1\n",
    "            current = current.getNext()\n",
    "        return count\n",
    "\n",
    "    def remove(self, item):\n",
    "        # remove(item): 从有序表中移除一个数据项，此项应存在，在有序表被修改\n",
    "        current = self.head\n",
    "        previous = None\n",
    "        found = False\n",
    "        while not found:\n",
    "            if current.getData() == item:\n",
    "                found = True\n",
    "            else:\n",
    "                previous = current\n",
    "                current = current.getNext()\n",
    "        if previous == None:\n",
    "            self.head = current.getNext()\n",
    "        else:\n",
    "            previous.setNext(current.getNext())\n",
    "\n",
    "    def search(self, item):\n",
    "        current = self.head\n",
    "        found = False\n",
    "        stop = False\n",
    "        while current != None and not found and not stop:\n",
    "            if current.getData() == item:\n",
    "                found = True\n",
    "            else:\n",
    "                if current.getNext() > item:\n",
    "                    stop = Ture\n",
    "                else:\n",
    "                    current = current.getNext()\n",
    "        return found\n",
    "\n",
    "    def add(self, item):\n",
    "        current = self.head\n",
    "        previous = None\n",
    "        stop = False\n",
    "        while current != None and not stop:\n",
    "            if current.getData() > item:\n",
    "                stop = True\n",
    "            else:\n",
    "                previous = current\n",
    "                current = current.getNext()\n",
    "\n",
    "        temp = Node(item)\n",
    "        if previous == None:\n",
    "            temp.setNext(self.head)\n",
    "            self.head = temp\n",
    "        else:\n",
    "            temp.setNext(current)\n",
    "            previous.setNext(temp)"
   ]
  }
 ],
 "metadata": {
  "kernelspec": {
   "display_name": "base",
   "language": "python",
   "name": "base"
  },
  "language_info": {
   "codemirror_mode": {
    "name": "ipython",
    "version": 3
   },
   "file_extension": ".py",
   "mimetype": "text/x-python",
   "name": "python",
   "nbconvert_exporter": "python",
   "pygments_lexer": "ipython3",
   "version": "3.8.3"
  },
  "toc": {
   "base_numbering": 1,
   "nav_menu": {},
   "number_sections": true,
   "sideBar": true,
   "skip_h1_title": false,
   "title_cell": "Table of Contents",
   "title_sidebar": "Contents",
   "toc_cell": false,
   "toc_position": {
    "height": "577.6px",
    "left": "82px",
    "top": "146px",
    "width": "262.997px"
   },
   "toc_section_display": true,
   "toc_window_display": true
  },
  "varInspector": {
   "cols": {
    "lenName": 16,
    "lenType": 16,
    "lenVar": 40
   },
   "kernels_config": {
    "python": {
     "delete_cmd_postfix": "",
     "delete_cmd_prefix": "del ",
     "library": "var_list.py",
     "varRefreshCmd": "print(var_dic_list())"
    },
    "r": {
     "delete_cmd_postfix": ") ",
     "delete_cmd_prefix": "rm(",
     "library": "var_list.r",
     "varRefreshCmd": "cat(var_dic_list()) "
    }
   },
   "types_to_exclude": [
    "module",
    "function",
    "builtin_function_or_method",
    "instance",
    "_Feature"
   ],
   "window_display": false
  }
 },
 "nbformat": 4,
 "nbformat_minor": 4
}
