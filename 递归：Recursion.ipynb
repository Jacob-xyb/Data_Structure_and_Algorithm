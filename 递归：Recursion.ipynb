{
 "cells": [
  {
   "cell_type": "markdown",
   "metadata": {},
   "source": [
    "# 递归(Recursion)\n",
    "\n",
    "- 将问题分解为规模更小的```相同问题```\n",
    "\n",
    "- 在算法中明显特征就是：**调用自身**"
   ]
  },
  {
   "cell_type": "markdown",
   "metadata": {},
   "source": [
    "## 递归案例：数列求和\n",
    "\n",
    "> **不使用for和while的情况下对不确定长度的列表求和**"
   ]
  },
  {
   "cell_type": "markdown",
   "metadata": {},
   "source": [
    "- 常见的求和函数"
   ]
  },
  {
   "cell_type": "code",
   "execution_count": 2,
   "metadata": {},
   "outputs": [],
   "source": [
    "def listsum(numList):\n",
    "    theSum = 0\n",
    "    for i in numList:\n",
    "        theSum += 1\n",
    "    return theSum"
   ]
  },
  {
   "cell_type": "markdown",
   "metadata": {},
   "source": [
    "- 递归解决"
   ]
  },
  {
   "cell_type": "code",
   "execution_count": 3,
   "metadata": {},
   "outputs": [],
   "source": [
    "def listsum(numList):\n",
    "    # 最小规模\n",
    "    if len(numList) == 1:\n",
    "        return numList[0]\n",
    "    # 减小规模\n",
    "    else:\n",
    "        return numList[0] + listsum(numList[1:])"
   ]
  },
  {
   "cell_type": "markdown",
   "metadata": {},
   "source": [
    "## 递归“三定律”\n",
    "\n",
    "1. 递归算法必须有一个基本结束条件（最小规模问题的直接解决）\n",
    "2. 递归算法必须能改变状态向基本结束条件演进（减小问题规模）\n",
    "3. 递归算法必须调用自身（解决减小了规模的相同问题）"
   ]
  },
  {
   "cell_type": "markdown",
   "metadata": {},
   "source": [
    "## 案例：整数转换为任意进制\n",
    "\n",
    "- 套用递归“三定律”"
   ]
  },
  {
   "cell_type": "code",
   "execution_count": 4,
   "metadata": {},
   "outputs": [],
   "source": [
    "def toStr(n, base):\n",
    "    converString = \"0123456789ABCDEF\"\n",
    "    if n < base:\n",
    "        return converString[n]  # 最小规模\n",
    "    else:\n",
    "        return toStr(n // base, base) + converString[n % base]  # 减小规模，调用自身"
   ]
  },
  {
   "cell_type": "code",
   "execution_count": 5,
   "metadata": {
    "scrolled": true
   },
   "outputs": [
    {
     "name": "stdout",
     "output_type": "stream",
     "text": [
      "1000\n"
     ]
    }
   ],
   "source": [
    "print(toStr(8,2))"
   ]
  },
  {
   "cell_type": "markdown",
   "metadata": {},
   "source": [
    "# 递归调用的实现\n",
    "\n",
    "- 当一个函数被调用的时候，系统会把调用时的**```现场数据```**压入到**```系统调用栈```**\n",
    "\n",
    "    每次调用时，压入栈的现场数据成为**```栈帧```**\n",
    "\n",
    "    当函数返回时，要从调用栈的栈顶取得返回地址，恢复现场，弹出栈帧，按地址返回。\n"
   ]
  },
  {
   "cell_type": "markdown",
   "metadata": {},
   "source": [
    "# 递归深度限制\n",
    "\n",
    "- 在调试递归算法程序的时候经常会碰到这样的错误：RecursionError\n",
    "    \n",
    "     - **递归的层数太多，系统调用栈容量有限。**\n",
    "     \n",
    "- python内置模块```sys```可以获取和调整最大递归深度\n"
   ]
  },
  {
   "cell_type": "code",
   "execution_count": 1,
   "metadata": {
    "scrolled": true
   },
   "outputs": [
    {
     "name": "stdout",
     "output_type": "stream",
     "text": [
      "3000\n",
      "60000\n"
     ]
    }
   ],
   "source": [
    "import sys \n",
    "print(sys.getrecursionlimit())\n",
    "sys.setrecursionlimit(60000)\n",
    "print(sys.getrecursionlimit())"
   ]
  },
  {
   "cell_type": "markdown",
   "metadata": {},
   "source": [
    "# 递归可视化"
   ]
  },
  {
   "cell_type": "markdown",
   "metadata": {},
   "source": [
    "## turtle模块"
   ]
  },
  {
   "cell_type": "markdown",
   "metadata": {},
   "source": [
    "- 简单使用\n",
    "- 不建议在jupyternotebook上使用，每次只能运行一次。"
   ]
  },
  {
   "cell_type": "code",
   "execution_count": 1,
   "metadata": {},
   "outputs": [],
   "source": [
    "import turtle\n",
    "t = turtle.Turtle()\n",
    "# 作图开始\n",
    "t.forward(100)  # 指挥海龟作图\n",
    "#  作图结束\n",
    "turtle.done()"
   ]
  },
  {
   "cell_type": "markdown",
   "metadata": {},
   "source": [
    "- 画正方形"
   ]
  },
  {
   "cell_type": "code",
   "execution_count": 1,
   "metadata": {},
   "outputs": [],
   "source": [
    "import turtle\n",
    "t = turtle.Turtle()\n",
    "for i in range(4):\n",
    "    t.forward(100)\n",
    "    t.right(90)\n",
    "turtle.done()"
   ]
  },
  {
   "cell_type": "markdown",
   "metadata": {},
   "source": [
    "- 画五角星"
   ]
  },
  {
   "cell_type": "code",
   "execution_count": 1,
   "metadata": {},
   "outputs": [],
   "source": [
    "import turtle\n",
    "t = turtle.Turtle()\n",
    "t.pencolor('red')\n",
    "t.pensize(3)\n",
    "for i in range(5):\n",
    "    t.forward(100)\n",
    "    t.right(144)\n",
    "t.hideturtle()\n",
    "turtle.done()"
   ]
  },
  {
   "cell_type": "markdown",
   "metadata": {},
   "source": [
    "## 递归作图--螺旋"
   ]
  },
  {
   "cell_type": "code",
   "execution_count": 1,
   "metadata": {},
   "outputs": [],
   "source": [
    "import turtle\n",
    "t = turtle.Turtle()\n",
    "\n",
    "def drawSpiral(t,lineLen):\n",
    "    # 最小规模，0直接退出\n",
    "    if lineLen > 0:\n",
    "        t.forward(lineLen)\n",
    "        t.right(90)\n",
    "        # 件小规模，边长减5\n",
    "        drawSpiral(t,lineLen-5)  # 调用自身\n",
    "drawSpiral(t,100)\n",
    "\n",
    "turtle.done()"
   ]
  },
  {
   "cell_type": "markdown",
   "metadata": {},
   "source": [
    "## 分形树：自相似递归图形\n",
    "\n",
    "- 分形Fractal，是1975年由Mandelbrot开创的新学科。\n",
    "\n",
    "> **“一个粗糙或零碎的几何形状，可以分成数个部分，且每一部分都（至少近似地）是整体缩小后的形状，即具有自相似的性质。”**"
   ]
  },
  {
   "cell_type": "markdown",
   "metadata": {},
   "source": [
    "- 二叉树 = 树干 + 倾斜的右小树 + 倾斜的左小树"
   ]
  },
  {
   "cell_type": "markdown",
   "metadata": {},
   "source": [
    "- **分形树代码**"
   ]
  },
  {
   "cell_type": "code",
   "execution_count": 4,
   "metadata": {},
   "outputs": [],
   "source": [
    "import turtle\n",
    "\n",
    "\n",
    "def tree(branch_len):\n",
    "    if branch_len > 5:  # 树干太短不画，即递归结束条件\n",
    "        t.forward(branch_len)  # 画树干\n",
    "        t.right(20)  # 右倾斜20度\n",
    "        tree(branch_len - 15)  # 递归调用，画右边的小树，树干减15\n",
    "        t.left(40)  # 向左回40度，即左倾斜20度\n",
    "        tree(branch_len - 15)  # 递归调用，画左边的小树，树干减15\n",
    "        t.right(20)  # 向右回20度，即回正\n",
    "        t.backward(branch_len)  # 海龟退回原位置  # very important"
   ]
  },
  {
   "cell_type": "code",
   "execution_count": 5,
   "metadata": {},
   "outputs": [],
   "source": [
    "t = turtle.Turtle()\n",
    "t.left(90)\n",
    "t.penup()\n",
    "t.backward(100)\n",
    "t.pendown()\n",
    "t.pencolor('green')\n",
    "t.pensize(2)\n",
    "tree(75)  # 画树干长度75的二叉树\n",
    "t.hideturtle()\n",
    "turtle.done()"
   ]
  },
  {
   "cell_type": "markdown",
   "metadata": {},
   "source": [
    "![](https://i.loli.net/2021/01/06/cajwiQG3YuOLSWh.png)"
   ]
  },
  {
   "cell_type": "markdown",
   "metadata": {},
   "source": [
    "## 谢尔宾斯基Sierpinski三角形\n",
    "\n",
    "- 分形构造，平面称谢尔宾斯基三角形，立体称谢尔宾斯基金字塔\n",
    "\n",
    "> **实际上，真正的谢尔宾斯基三角形是完全不可见的，其面积为0，但周长无穷，是介于一维和二维之间的分数维（约1.585维）构造**\n",
    "\n",
    "\n",
    "![](https://i.loli.net/2021/01/06/PFfihWZVk9pxHnJ.png)\n",
    "\n",
    "- 无法真正做出degree->∞，只能degree有限的近似图形。"
   ]
  },
  {
   "cell_type": "markdown",
   "metadata": {},
   "source": [
    "- **思路**\n",
    "\n",
    "degree有限的情况下，degree=n的三角形，是由degree=n-1的三角形按照品字形拼叠而成。\n",
    "\n",
    "> 当degree = 0, 则就是一个等边三角形。\n",
    "\n",
    "![](https://i.loli.net/2021/01/06/PtZDnBUuKwQRS2x.png)"
   ]
  },
  {
   "cell_type": "markdown",
   "metadata": {},
   "source": [
    "- Sierpinski三角形代码"
   ]
  },
  {
   "cell_type": "code",
   "execution_count": null,
   "metadata": {},
   "outputs": [],
   "source": [
    "import turtle\n",
    "\n",
    "\n",
    "def sierpinski(degree, points):\n",
    "    colormap = ['blue', 'red', 'green', 'white', 'yellow', 'orange']\n",
    "    drawTriangle(points, colormap[degree])  # 等边三角形\n",
    "    if degree > 0:  # 最小规模，0直接退出\n",
    "        # 减小规模：getMid边长减半\n",
    "        # 调用自身，左上右次序\n",
    "        sierpinski(\n",
    "            degree - 1, {\n",
    "                'left': points['left'],\n",
    "                'top': getMid(points['left'], points['top']),\n",
    "                'right': getMid(points['left'], points['right'])\n",
    "            })\n",
    "        sierpinski(\n",
    "            degree - 1, {\n",
    "                'left': getMid(points['left'], points['top']),\n",
    "                'top': points['top'],\n",
    "                'right': getMid(points['top'], points['right'])\n",
    "            })\n",
    "        sierpinski(\n",
    "            degree - 1, {\n",
    "                'left': getMid(points['left'], points['right']),\n",
    "                'top': getMid(points['top'], points['right']),\n",
    "                'right': points['right']\n",
    "            })\n",
    "\n",
    "\n",
    "def drawTriangle(points, color):  # 绘制等边三角形\n",
    "    t.fillcolor(color)\n",
    "    t.penup()\n",
    "    t.goto(points['top'])\n",
    "    t.pendown()\n",
    "    t.begin_fill()\n",
    "    t.goto(points['left'])\n",
    "    t.goto(points['right'])\n",
    "    t.goto(points['top'])\n",
    "    t.end_fill()\n",
    "\n",
    "\n",
    "def getMid(p1, p2):  # 取两个点的中点\n",
    "    return ((p1[0] + p2[0]) / 2, (p1[1] + p2[1]) / 2)\n",
    "\n",
    "\n",
    "t = turtle.Turtle()\n",
    "\n",
    "# 外轮廓三个顶点\n",
    "points = {'left': (-200, -100), 'top': (0, 200), 'right': (200, -100)}\n",
    "\n",
    "sierpinski(5, points)\n",
    "\n",
    "turtle.done()"
   ]
  },
  {
   "cell_type": "markdown",
   "metadata": {},
   "source": [
    "![](https://i.loli.net/2021/01/07/I3PAqHCVm7eEjc4.png)"
   ]
  },
  {
   "cell_type": "markdown",
   "metadata": {},
   "source": [
    "## 汉诺塔"
   ]
  },
  {
   "cell_type": "code",
   "execution_count": 3,
   "metadata": {},
   "outputs": [
    {
     "name": "stdout",
     "output_type": "stream",
     "text": [
      "Moving disk[1] from #1 to #3\n",
      "Moving disk[2] from #1 to #2\n",
      "Moving disk[1] from #3 to #2\n",
      "Moving disk[3] from #1 to #3\n",
      "Moving disk[1] from #2 to #1\n",
      "Moving disk[2] from #2 to #3\n",
      "Moving disk[1] from #1 to #3\n"
     ]
    }
   ],
   "source": [
    "def moveTower(height, fromPole, withPole, toPole):\n",
    "    if height >= 1:\n",
    "        moveTower(height -1,fromPole, toPole, withPole)\n",
    "        moveDisk(height, fromPole, toPole)\n",
    "        moveTower(height -1, withPole, fromPole, toPole)\n",
    "\n",
    "def moveDisk(disk, fromPole, toPole):\n",
    "    print(f\"Moving disk[{disk}] from {fromPole} to {toPole}\")\n",
    "    \n",
    "moveTower(3, \"#1\", \"#2\", \"#3\")"
   ]
  },
  {
   "cell_type": "markdown",
   "metadata": {},
   "source": [
    "## 探索迷宫\n",
    "\n",
    "- __古希腊的迷宫__\n",
    "\n",
    "__古希腊克里特岛米诺斯王__\n",
    "\n",
    "牛头人身怪物米诺陶洛斯  \n",
    "童男童女献祭，雅典王子忒修斯  \n",
    "公主，利剑，线团\n",
    "老国王投海...爱琴海"
   ]
  },
  {
   "cell_type": "markdown",
   "metadata": {},
   "source": [
    "- 迷宫的数据结构: Maze Class\n",
    "\n",
    "可以用文本编辑器采用不同字符来分别代表“墙壁+”、“通道 ”、“海龟投放点S”\n",
    "\n",
    "![](https://i.loli.net/2021/01/23/lzLhYjTQX325JE7.png)"
   ]
  },
  {
   "cell_type": "code",
   "execution_count": null,
   "metadata": {},
   "outputs": [],
   "source": [
    "class Maze:\n",
    "    def __init__(self, mazeFilename):\n",
    "        rowsInMaze = 0\n",
    "        columnsInMaze = 0\n",
    "        self.mazelist = []\n",
    "        mazeFilename = open(mazeFilename, \"r\")\n",
    "        rowsInMaze = 0\n",
    "\n",
    "        for line in mazeFlie:\n",
    "            rowList = []\n",
    "            col = 0\n",
    "            for ch in line[:-1]:\n",
    "                rowList.append(ch)\n",
    "                if ch == 'S':\n",
    "                    self.startRow = rowsInMaze\n",
    "                    self.startCol = col\n",
    "                col = col + 1\n",
    "            rowsInMaze = rowsInMaze + 1\n",
    "            self.mazelist.append(rowList)\n",
    "            columnsInMaze = len(rowList)"
   ]
  },
  {
   "cell_type": "markdown",
   "metadata": {},
   "source": [
    "- 算法思路\n",
    "\n",
    "\n",
    "1. 将海龟__向北__移动一步，从__新位置__递归调用探索；\n",
    "2. 如果上述步骤__找不到出口__，那么将海龟从原位置__向南__移动一步，从__新位置__递归调用探索；\n",
    "3. 如果向南__找不到出口__，那么将海龟从原位置__向西__移动一步，从__新位置__递归调用探索；\n",
    "4. 如果向西__找不到出口__，那么将海龟从原位置__向东__移动一步，从__新位置__递归调用探索；\n",
    "5. 如果上面四个方向都__找不到出口__，那么这个迷宫__没有出口__!"
   ]
  },
  {
   "cell_type": "markdown",
   "metadata": {},
   "source": [
    "- 思路看起来很美好，但是有些细节至关重要\n",
    "\n",
    "例如下图，海龟会在南北之间陷入__无限递归__的死循环之中。\n",
    "\n",
    "![](https://i.loli.net/2021/01/23/JELamf73ubFoTAN.png)"
   ]
  },
  {
   "cell_type": "markdown",
   "metadata": {},
   "source": [
    "- 所以需要有个机制记录海龟所走过的路径\n",
    "\n",
    "沿途撒“面包屑”，一旦前进方向发现“面包屑”，就不能再踩上去，而必须__换下一个方向__尝试。  \n",
    "对递归调用来说，就是某方向的方格上发现“面包屑”，就立即从递归调用__返回上一级__。\n",
    "\n",
    "- 递归调用的“__基本结束条件__”归纳如下：\n",
    "\n",
    "1. 海龟碰到“墙壁”方格，递归调用结束，返回__失败__；\n",
    "2. 海龟碰到“面包屑”方格，表示此方格已访问过，递归调用结束，返回__失败__；\n",
    "3. 海龟碰到“出口”方格，即“位于边缘的通道”方格，递归调用结束，返回__成功__；\n",
    "4. 海龟在__四个方向上探索都失败，递归调用结束，返回__失败__；\n"
   ]
  },
  {
   "cell_type": "markdown",
   "metadata": {},
   "source": [
    "- 辅助的动画过程\n",
    "\n",
    "```\n",
    "t: 一个作图的海龟，设置其shape为海龟的样子（缺省是一个箭头）\n",
    "\n",
    "drawMaze(): 绘制出迷宫的图形，墙壁用实心方格绘制\n",
    "\n",
    "updatePosition(row, col, val): 更新海龟的位置，并作标注\n",
    "\n",
    "isExit(row, col): 判断是否“出口”\n",
    "```\n",
    "__主要代码示例:__\n",
    "![](https://i.loli.net/2021/01/23/TtquBXJMEoivW8g.png)"
   ]
  },
  {
   "cell_type": "markdown",
   "metadata": {},
   "source": [
    "# 分治策略\n",
    "\n",
    "- 分而治之\n",
    "\n",
    "将问题分为若干个更小规模的部分\n",
    "\n",
    "![](https://i.loli.net/2021/01/23/ESDMwRale1d87o5.png)"
   ]
  },
  {
   "cell_type": "markdown",
   "metadata": {},
   "source": [
    "# 优化问题\n",
    "\n",
    "- 计算机科学中许多算法都是为了找到某些问题的最优解。"
   ]
  },
  {
   "cell_type": "markdown",
   "metadata": {},
   "source": [
    "## 贪心策略(Greedy Method)\n",
    "- 尽量用多的数量开始。"
   ]
  },
  {
   "cell_type": "markdown",
   "metadata": {},
   "source": [
    "## 找零兑换问题\n",
    "\n",
    "- 首先确定__基本结束条件__，最简单情况：需要兑换的面值正好__等于__某种__硬币__。\n",
    "- 其次是__减小问题的规模__，我们要对每种硬币尝试一次，例如美元体系。"
   ]
  },
  {
   "cell_type": "markdown",
   "metadata": {},
   "source": [
    "__1. 递归解法__\n",
    "- 极其低效！！  \n",
    "原因是重复计算的次数太多"
   ]
  },
  {
   "cell_type": "code",
   "execution_count": 3,
   "metadata": {},
   "outputs": [
    {
     "name": "stdout",
     "output_type": "stream",
     "text": [
      "6\n"
     ]
    }
   ],
   "source": [
    "def recMC(coinValueList, change):\n",
    "    minCoins = change\n",
    "    if change in coinValueList:\n",
    "        return 1\n",
    "    else:\n",
    "        for i in [c for c in coinValueList if c <= change]:\n",
    "            numCoins = 1 + recMC(coinValueList, change - i)\n",
    "            if numCoins < minCoins:\n",
    "                minCoins = numCoins\n",
    "    return minCoins\n",
    "\n",
    "\n",
    "print(recMC([1, 5, 10, 25], 63))"
   ]
  },
  {
   "cell_type": "markdown",
   "metadata": {},
   "source": [
    "__2.递归解法改进代码__\n",
    "- 改进的关键在于消除重复计算"
   ]
  },
  {
   "cell_type": "code",
   "execution_count": 2,
   "metadata": {},
   "outputs": [
    {
     "name": "stdout",
     "output_type": "stream",
     "text": [
      "6\n"
     ]
    }
   ],
   "source": [
    "def recDC(coinValueList, change, knownResults):\n",
    "    minCoins = change\n",
    "    if change in coinValueList:  # dabs归结束基本条件\n",
    "        knownResults[change] = 1  # 记录最优解\n",
    "        return 1\n",
    "    elif knownResults[change] > 0:\n",
    "        return knownResults[change]  # 查表成功，直接用最优解\n",
    "    else:\n",
    "        for i in [c for c in coinValueList if c <= change]:\n",
    "            numCoins = 1 + recDC(coinValueList, change - i, knownResults)\n",
    "            if numCoins < minCoins:\n",
    "                minCoins = numCoins\n",
    "                knownResults[change] = minCoins  # 找到最优解，记录到表中\n",
    "    return minCoins\n",
    "\n",
    "\n",
    "print(recDC([1, 5, 10, 25], 63, [0] * 64))"
   ]
  },
  {
   "cell_type": "markdown",
   "metadata": {},
   "source": [
    "__3. 动态规划解法__\n",
    "- 动态规划算法采用了一种更有条理的方式来得到问题的解。\n",
    "- 找零兑换的动态规划算法从最简单的\"1分钱找零\"的最优解开始，逐步递加上去，直到我们需要的找零钱数。\n",
    "- 在找零递加的过程中，设法保持每一分钱的递加都是最优解，一直加到求解找零钱数，自然得到最优解。  \n",
    "\n",
    "\n",
    "- 问题的最优解包含了更小规模子问题的最优解，这是一个最优化问题能够用动态规划策略解决的必要条件。"
   ]
  },
  {
   "cell_type": "code",
   "execution_count": 1,
   "metadata": {},
   "outputs": [
    {
     "name": "stdout",
     "output_type": "stream",
     "text": [
      "6\n"
     ]
    }
   ],
   "source": [
    "def dpMakeChange(coinValueList, change, minCoins):\n",
    "    # 从1分开始到change逐个计算最少硬币数\n",
    "    for cents in range(1,change +1):\n",
    "        # 1.初始化一个最大值\n",
    "        coinCount = cents\n",
    "        # 2.减去每个硬币，向后查最少硬币数，同时记录总的最少数\n",
    "        for j in [c for c in coinValueList if c <= cents]:\n",
    "            if minCoins[cents -j] +1 < coinCount:\n",
    "                coinCount = minCoins[cents - j] + 1 \n",
    "        # 3.得到当前最少并硬币数，记录到表中\n",
    "        minCoins[cents] = coinCount\n",
    "    # 返回最后一个结果\n",
    "    return minCoins[change]\n",
    "\n",
    "import time\n",
    "# print(time.clock())\n",
    "print(dpMakeChange([1,5,10,25], 63, [0] * 64))\n",
    "# print(time.clock())"
   ]
  }
 ],
 "metadata": {
  "kernelspec": {
   "display_name": "Python 3",
   "language": "python",
   "name": "python3"
  },
  "language_info": {
   "codemirror_mode": {
    "name": "ipython",
    "version": 3
   },
   "file_extension": ".py",
   "mimetype": "text/x-python",
   "name": "python",
   "nbconvert_exporter": "python",
   "pygments_lexer": "ipython3",
   "version": "3.8.5"
  },
  "toc": {
   "base_numbering": 1,
   "nav_menu": {},
   "number_sections": true,
   "sideBar": true,
   "skip_h1_title": false,
   "title_cell": "Table of Contents",
   "title_sidebar": "Contents",
   "toc_cell": false,
   "toc_position": {
    "height": "calc(100% - 180px)",
    "left": "10px",
    "top": "150px",
    "width": "384px"
   },
   "toc_section_display": true,
   "toc_window_display": true
  },
  "varInspector": {
   "cols": {
    "lenName": 16,
    "lenType": 16,
    "lenVar": 40
   },
   "kernels_config": {
    "python": {
     "delete_cmd_postfix": "",
     "delete_cmd_prefix": "del ",
     "library": "var_list.py",
     "varRefreshCmd": "print(var_dic_list())"
    },
    "r": {
     "delete_cmd_postfix": ") ",
     "delete_cmd_prefix": "rm(",
     "library": "var_list.r",
     "varRefreshCmd": "cat(var_dic_list()) "
    }
   },
   "position": {
    "height": "214px",
    "left": "1597px",
    "right": "20px",
    "top": "120px",
    "width": "303px"
   },
   "types_to_exclude": [
    "module",
    "function",
    "builtin_function_or_method",
    "instance",
    "_Feature"
   ],
   "window_display": true
  }
 },
 "nbformat": 4,
 "nbformat_minor": 4
}
