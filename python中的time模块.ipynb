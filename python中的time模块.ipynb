{
 "cells": [
  {
   "cell_type": "markdown",
   "metadata": {},
   "source": [
    "# time 模块\n",
    "- 从1970年1月1日0点0分开始按秒计时"
   ]
  },
  {
   "cell_type": "code",
   "execution_count": null,
   "metadata": {},
   "outputs": [],
   "source": [
    "import time"
   ]
  },
  {
   "cell_type": "code",
   "execution_count": 10,
   "metadata": {},
   "outputs": [
    {
     "data": {
      "text/plain": [
       "1606744952.1809595"
      ]
     },
     "execution_count": 10,
     "metadata": {},
     "output_type": "execute_result"
    }
   ],
   "source": [
    "time.time() # 看看我们差距了多少秒呢"
   ]
  },
  {
   "cell_type": "markdown",
   "metadata": {},
   "source": [
    "## 累计求和程序的运行时间检测\n",
    "- 用time检测总运行时间"
   ]
  },
  {
   "cell_type": "code",
   "execution_count": 6,
   "metadata": {},
   "outputs": [
    {
     "name": "stdout",
     "output_type": "stream",
     "text": [
      "Sum is 5000050000 required  0.0034397 seconds\n",
      "Sum is 5000050000 required  0.0038462 seconds\n",
      "Sum is 5000050000 required  0.0039926 seconds\n",
      "Sum is 5000050000 required  0.0043566 seconds\n",
      "Sum is 5000050000 required  0.0049913 seconds\n"
     ]
    }
   ],
   "source": [
    "def sum0fN2(n):\n",
    "    start = time.time()  # 记录开始的时间\n",
    "    theSum = 0\n",
    "    for i in range(1, n+1):\n",
    "        theSum += i\n",
    "    end = time.time()  # 记录结束的时间\n",
    "    return theSum, end - start\n",
    "\n",
    "for i in range(5):  # 多次运行减少误差\n",
    "    print(\"Sum is %d required %10.7f seconds\"\n",
    "         % sum0fN2(100000))  # 10W"
   ]
  },
  {
   "cell_type": "code",
   "execution_count": 7,
   "metadata": {},
   "outputs": [
    {
     "name": "stdout",
     "output_type": "stream",
     "text": [
      "Sum is 500000500000 required  0.0384393 seconds\n",
      "Sum is 500000500000 required  0.0369604 seconds\n",
      "Sum is 500000500000 required  0.0391562 seconds\n",
      "Sum is 500000500000 required  0.0375578 seconds\n",
      "Sum is 500000500000 required  0.0401514 seconds\n"
     ]
    }
   ],
   "source": [
    "# 增加十倍\n",
    "for i in range(5):  # 多次运行减少误差\n",
    "    print(\"Sum is %d required %10.7f seconds\"\n",
    "         % sum0fN2(1000000))  # 100W"
   ]
  },
  {
   "cell_type": "code",
   "execution_count": 8,
   "metadata": {},
   "outputs": [
    {
     "name": "stdout",
     "output_type": "stream",
     "text": [
      "Sum is 50000005000000 required  0.3605776 seconds\n",
      "Sum is 50000005000000 required  0.3606791 seconds\n",
      "Sum is 50000005000000 required  0.3599532 seconds\n",
      "Sum is 50000005000000 required  0.3603742 seconds\n",
      "Sum is 50000005000000 required  0.3536611 seconds\n"
     ]
    }
   ],
   "source": [
    "# 再增加十倍\n",
    "for i in range(5):  # 多次运行减少误差\n",
    "    print(\"Sum is %d required %10.7f seconds\"\n",
    "         % sum0fN2(10000000))  # 1000W"
   ]
  },
  {
   "cell_type": "markdown",
   "metadata": {},
   "source": [
    "- 用迭代的算法 数据量增加十倍，那么所花的时间大约增加十倍"
   ]
  },
  {
   "cell_type": "code",
   "execution_count": 14,
   "metadata": {},
   "outputs": [
    {
     "name": "stdout",
     "output_type": "stream",
     "text": [
      "Sum is 5000050000 required  0.0000000 seconds\n",
      "Sum is 500000500000 required  0.0000000 seconds\n",
      "Sum is 50000005000000 required  0.0000000 seconds\n",
      "Sum is 5000000050000000 required  0.0000000 seconds\n",
      "Sum is 500000000500000000 required  0.0000000 seconds\n"
     ]
    }
   ],
   "source": [
    "def sum0fN3(n):\n",
    "    start = time.time()  # 记录开始的时间\n",
    "    theSum = (n*(n+1))/2\n",
    "    end = time.time()  # 记录结束的时间\n",
    "    return theSum, end - start\n",
    "for i in range(1,6):\n",
    "    print(\"Sum is %d required %10.7f seconds\"\n",
    "             % sum0fN3(10000*(10**i)))"
   ]
  },
  {
   "cell_type": "markdown",
   "metadata": {},
   "source": [
    "- 新算法运行时间几乎与数据量无关"
   ]
  }
 ],
 "metadata": {
  "kernelspec": {
   "display_name": "base",
   "language": "python",
   "name": "base"
  },
  "language_info": {
   "codemirror_mode": {
    "name": "ipython",
    "version": 3
   },
   "file_extension": ".py",
   "mimetype": "text/x-python",
   "name": "python",
   "nbconvert_exporter": "python",
   "pygments_lexer": "ipython3",
   "version": "3.8.3"
  }
 },
 "nbformat": 4,
 "nbformat_minor": 4
}
